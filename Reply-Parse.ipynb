{
 "cells": [
  {
   "cell_type": "markdown",
   "metadata": {},
   "source": [
    "# FD reply parse\n",
    "\n",
    "__Example: http://seclists.org/fulldisclosure/2017/Jan/0__\n",
    "\n",
    "With each reply, we'll attempt to parse out the following:\n",
    "* raw reply text, without html tags\n",
    "  * the reply text with any signatures stripped out\n",
    "* an analysis of what html tags are in the message"
   ]
  },
  {
   "cell_type": "code",
   "execution_count": 1,
   "metadata": {},
   "outputs": [],
   "source": [
    "import re\n",
    "import requests\n",
    "\n",
    "from bs4 import BeautifulSoup"
   ]
  },
  {
   "cell_type": "markdown",
   "metadata": {},
   "source": [
    "We'll gather the contents of a single message. 2017_Jan_0 is one that includes a personal signature, as well as the standard Full Disclosure footer.\n",
    "\n",
    "2017_Jan_45 is a message that includes a PGP signature."
   ]
  },
  {
   "cell_type": "code",
   "execution_count": 2,
   "metadata": {},
   "outputs": [
    {
     "data": {
      "text/plain": [
       "'<!-- MHonArc v2.6.19 -->\\n<!--X-Head-End-->\\n<!DOCTYPE HTML PUBLIC \"-//W3C//DTD HTML 4.0 Transitional//EN\"\\n                      \"http://www.w3.org/TR/REC-html40/loose.dtd\">\\n<HTML>\\n<HEAD>\\n<link rel=\"alternate\" type=\"application/rss+xml\" title=\"RSS\" href=\"http://seclists.org/rss/fulldisclosure.rss\">\\n<title>Full Disclosure: APPLE-SA-2017-01-18-1 GarageBand 10.1.5</title>\\n<meta property=\"og:image\" content=\"http://seclists.org/images/fulldisclosure-img.png\" />\\n<link rel=\"image_src\" href=\"http://seclists.org/images/fulldisclosure-img.png\" />\\n<meta name=\"Subject\" content=\"APPLE-SA-2017-01-18-1 GarageBand 10.1.5\"/>\\n<meta name=\"Author\" content=\"Apple Product Security\"/>\\n<link REL=\"SHORTCUT ICON\" HREF=\"/shared/images/tiny-eyeicon.png\" TYPE=\"image/png\">\\n<META NAME=\"ROBOTS\" CONTENT=\"NOARCHIVE\">\\n<meta name=\"theme-color\" content=\"#2A0D45\">\\n<link rel=\"stylesheet\" href=\"/shared/css/insecdb.css\" type=\"text/css\">\\n<!--Google Analytics Code-->\\n<script type=\"text/javascript\">\\n  (function(i,s,o,g,r,a,m){i[\\'GoogleAnalyticsObject\\']=r;i[r]=i[r]||function(){\\n  (i[r].q=i[r].q||[]).push(arguments)},i[r].l=1*new Date();a=s.createElement(o),\\n  m=s.getElementsByTagName(o)[0];a.async=1;a.src=g;m.parentNode.insertBefore(a,m)\\n  })(window,document,\\'script\\',\\'//www.google-analytics.com/analytics.js\\',\\'ga\\');\\n\\n  ga(\\'create\\', \\'UA-11009417-1\\', \\'auto\\');\\n  ga(\\'send\\', \\'pageview\\');\\n\\n</script>\\n<!--END Google Analytics Code-->\\n\\n<!--Google Custom Site Search boilerplate Javascript-->\\n<script type=\"text/javascript\">\\n  (function() {\\n    var cx = \\'partner-pub-0078565546631069:bx60rb-fytx\\';\\n    var gcse = document.createElement(\\'script\\'); gcse.type = \\'text/javascript\\'; gcse.async = true;\\n    gcse.src = (document.location.protocol == \\'https:\\' ? \\'https:\\' : \\'http:\\') +\\n        \\'//www.google.com/cse/cse.js?cx=\\' + cx;\\n    var s = document.getElementsByTagName(\\'script\\')[0]; s.parentNode.insertBefore(gcse, s);\\n  })();\\n</script>\\n<!--End Google Custom Site Search boilerplate Javascript-->\\n\\n</HEAD>\\n<BODY BGCOLOR=\"#2A0D45\" TEXT=\"#000000\">\\n\\n<TABLE CELLPADDING=\"0\" WIDTH=\"100%\" CELLSPACING=\"0\">\\n<TR><TD ALIGN=\"left\"><A HREF=\"/\"><IMG BORDER=0 ALT=\"Home page logo\"\\nSRC=\"/images/sitelogo.png\" HEIGHT=90 WIDTH=168></A></TD>\\n<TD VALIGN=\"bottom\" ALIGN=\"right\">\\n<!-- Begin TopBanner Code -->\\n<!-- AdSpeed.com Serving Code 7.9.6 for [Zone] TopBanner [Any Dimension] -->\\n<script type=\"text/javascript\" src=\"//g.adspeed.net/ad.php?do=js&amp;zid=14678&amp;wd=-1&amp;ht=-1&amp;target=_blank\"></script>\\n<!-- AdSpeed.com End -->\\n<!-- End Banner Code -->\\n\\n</TD></TR></TABLE>\\n<TABLE WIDTH=\"100%\" CELLPADDING=\"0\" CELLSPACING=\"0\"><TR>\\n<TD ALIGN=\"left\" WIDTH=\"130\" VALIGN=\"top\" class=\"sidebar\">\\n\\n<!-- SECWIKI PORTAL INSERT -->\\n\\n<ul>\\n<li><a href=\"https://nmap.org/\">Nmap Security Scanner</a>\\n<ul>\\n<li><a href=\"https://nmap.org/\">Intro</a></li>\\n<li><a href=\"https://nmap.org/book/man.html\">Ref Guide</a></li>\\n<li><a href=\"https://nmap.org/book/install.html\">Install Guide</a></li>\\n<li><a href=\"https://nmap.org/download.html\">Download</a></li>\\n<li><a href=\"https://nmap.org/changelog.html\">Changelog</a></li>\\n<li><a href=\"https://nmap.org/book/\">Book</a></li>\\n<li><a href=\"https://nmap.org/docs.html\">Docs</a></li>\\n</ul>\\n<li><a href=\"http://seclists.org/\">Security Lists</a>\\n<ul>\\n<li><a href=\"http://seclists.org/nmap-announce/\">Nmap Announce</a></li>\\n<li><a href=\"http://seclists.org/nmap-dev/\">Nmap Dev</a></li>\\n<li><a href=\"http://seclists.org/bugtraq/\">Bugtraq</a></li>\\n<li><a href=\"http://seclists.org/fulldisclosure/\">Full Disclosure</a></li>\\n<li><a href=\"http://seclists.org/pen-test/\">Pen Test</a></li>\\n<li><a href=\"http://seclists.org/basics/\">Basics</a></li>\\n<li><a href=\"http://seclists.org/\">More</a></li>\\n</ul>\\n<li><a href=\"http://sectools.org\">Security Tools</a>\\n<ul>\\n<li><a href=\"http://sectools.org/tag/pass-audit/\">Password audit</a></li>\\n<li><a href=\"http://sectools.org/tag/sniffers/\">Sniffers</a></li>\\n<li><a href=\"http://sectools.org/tag/vuln-scanners/\">Vuln scanners</a></li>\\n<li><a href=\"http://sectools.org/tag/web-scanners/\">Web scanners</a></li>\\n<li><a href=\"http://sectools.org/tag/wireless/\">Wireless</a></li>\\n<li><a href=\"http://sectools.org/tag/sploits/\">Exploitation</a></li>\\n<li><a href=\"http://sectools.org/tag/packet-crafters/\">Packet crafters</a></li>\\n<li><a href=\"http://sectools.org/\">More</a></li>\\n</ul>\\n<li><a href=\"http://insecure.org/\">Site News</a></li>\\n<li><a href=\"http://insecure.org/advertising.html\">Advertising</a></li>\\n<li><a href=\"http://insecure.org/fyodor/\">About/Contact</a></li>\\n<li>\\n<!-- SiteSearch Google -->\\n<form action=\"https://nmap.org/search.html\" id=\"cse-search-box-sidebar\">\\n  <div>\\n    <input type=\"hidden\" name=\"cx\" value=\"partner-pub-0078565546631069:bx60rb-fytx\">\\n    <input type=\"hidden\" name=\"cof\" value=\"FORID:9\">\\n    <input type=\"hidden\" name=\"ie\" value=\"ISO-8859-1\">\\n    <input type=\"text\" name=\"q\" size=\"16\">\\n    <input type=\"submit\" name=\"sa\" value=\"Site Search\">\\n  </div>\\n</form>\\n<!-- End SiteSearch Google -->\\n</li>\\n<!-- These can come back if I ever update them ...\\n<li><a href=\"http://insecure.org/links.html\">Exceptional Links</a></li>\\n<li><a href=\"http://insecure.org/reading.html\">Good Reading</a></li>\\n<li><a href=\"http://insecure.org/sploits.html\">Exploit World</a></li>\\n-->\\n<li><a href=\"http://insecure.org/advertising.html\">Sponsors:</a>\\n  <br><br>\\n  \\n<!-- Begin Sidebar Banner Code -->\\n<A HREF=\"http://www.acunetix.com/web-vulnerability-manager/?utm_source=insecure&utm_medium=box&utm_term=chess&utm_campaign=insecure \"><IMG SRC=\"/shared/images/Acunetix/acx_Chess-WB.gif\" BORDER=0 ALT=\"Acunetix\"></A>\\n<!-- End Sidebar Banner Code -->\\n\\n<BR><BR>\\n\\n<!-- Begin Bottom (Google) Sidebar Banner Code -->\\n<script async src=\"//pagead2.googlesyndication.com/pagead/js/adsbygoogle.js\"></script>\\n<!-- SidebarSkyScraper -->\\n<ins class=\"adsbygoogle\"\\n     style=\"display:inline-block;width:120px;height:600px\"\\n     data-ad-client=\"ca-pub-0078565546631069\"\\n     data-ad-slot=\"9829251079\"></ins>\\n<script>\\n(adsbygoogle = window.adsbygoogle || []).push({});\\n</script>\\n<!-- End Bottom (Google) Sidebar Banner Code -->\\n\\n</li>\\n</ul>\\n\\n</TD>\\n<TD BGCOLOR=\"#FFFFFF\" VALIGN=\"top\" ALIGN=\"left\"><IMG\\nSRC=\"/shared/images/topleftcurve.gif\" alt=\"/\"><TABLE CELLPADDING=\"4\" WIDTH=\"100%\" style=\"table-layout: fixed;\"><TR><TD BGCOLOR=\"#FFFFFF\">\\n\\n<!--X-Body-Begin-->\\n<!--X-User-Header-->\\n<p>\\n<A HREF=\"/fulldisclosure/\"><img src=\"/images/fulldisclosure-logo.png\" border=\"0\" width=\"80\" style=\"vertical-align: middle\" alt=\"fulldisclosure logo\"></A>\\n<FONT SIZE=\"+1\"><a href=\"http://seclists.org/fulldisclosure/\">Full Disclosure</a>\\nmailing list archives</FONT><br>\\n<!--X-User-Header-End-->\\n<!--X-TopPNI-->\\n<!-- Google Custom SiteSearch -->\\n<form action=\"http://insecure.org/search.html\" id=\"top-search-box\">\\n<a href=\"44\"><img src=\"/images/left-icon-16x16.png\" border=0 width=16 height=16></a>&nbsp;&nbsp;<a href=\"date.html#45\">By Date</a>&nbsp;&nbsp;<a href=\"46\"><img src=\"/images/right-icon-16x16.png\" border=0 width=16 height=16></a>\\n&nbsp;&nbsp;&nbsp;&nbsp;&nbsp;\\n<a href=\"44\"><img src=\"/images/left-icon-16x16.png\" border=0 width=16 height=16></a>&nbsp;&nbsp;<a href=\"index.html#45\">By Thread</a>&nbsp;&nbsp;<a href=\"46\"><img src=\"/images/right-icon-16x16.png\" border=0 width=16 height=16></a>\\n&nbsp;&nbsp;&nbsp;&nbsp;&nbsp;\\n    <input type=\"hidden\" name=\"cx\" value=\"partner-pub-0078565546631069:bx60rb-fytx\" />\\n    <input type=\"hidden\" name=\"cof\" value=\"FORID:9\" />\\n    <input type=\"hidden\" name=\"ie\" value=\"ISO-8859-1\" />\\n    <input type=\"text\" name=\"q\" size=\"24\" />\\n    <input type=\"submit\" name=\"sa\" value=\"Search\" />\\n</form>\\n<script type=\"text/javascript\" src=\"http://www.google.com/coop/cse/brand?form=top-search-box&amp;lang=en\"></script>\\n<!-- End Google Custom SiteSearch -->\\n</p>\\n\\n<!--X-TopPNI-End-->\\n<!--X-MsgBody-->\\n<!--X-Subject-Header-Begin-->\\n<font size=\"+2\"><b>APPLE-SA-2017-01-18-1 GarageBand 10.1.5</b></font>\\n<hr>\\n<!--X-Subject-Header-End-->\\n<!--X-Head-of-Message-->\\n\\n\\n<em>From</em>: Apple Product Security &lt;product-security-noreply () lists apple com&gt;<br>\\n\\n<em>Date</em>: Wed, 18 Jan 2017 11:57:21 -0800<br>\\n\\n<!--X-Head-of-Message-End-->\\n<!--X-Head-Body-Sep-Begin-->\\n<hr>\\n<!--X-Head-Body-Sep-End-->\\n<!--X-Body-of-Message-->\\n<pre style=\"margin: 0em;\">-----BEGIN PGP SIGNED MESSAGE-----\\nHash: SHA512\\n\\nAPPLE-SA-2017-01-18-1 GarageBand 10.1.5\\n\\nGarageBand 10.1.5 is now available and addresses the following:\\n\\nProjects\\nAvailable for: OS X Yosemite v10.10 and later\\nImpact: Opening a maliciously crafted GarageBand project file may\\nlead to arbitrary code execution\\nDescription: A memory corruption issue was addressed through improved\\nmemory handling.\\nCVE-2017-2372: Tyler Bohan of Cisco Talos\\n\\nInstallation note:\\n\\nGarageBand 10.1.5 may be obtained from the Mac App Store.\\n\\nInformation will also be posted to the Apple Security Updates\\nweb site: <a  rel=\"nofollow\" href=\"https://support.apple.com/kb/HT201222\">https://support.apple.com/kb/HT201222</a>\\n\\nThis message is signed with Apple&apos;s Product Security PGP key,\\nand details are available at:\\n<a  rel=\"nofollow\" href=\"https://www.apple.com/support/security/pgp/\">https://www.apple.com/support/security/pgp/</a>\\n-----BEGIN PGP SIGNATURE-----\\nComment: GPGTools - <a  rel=\"nofollow\" href=\"https://gpgtools.org\">https://gpgtools.org</a>\\n\\niQIcBAEBCgAGBQJYf8YgAAoJEIOj74w0bLRGWiQP+gNnna3Ha0pOdJr/u3LHf/tN\\ntpX/lArjvo8ELpqb8wc5iCDXmSq7BgrnOV2T+XNI0XtE1md0xkQ3ttfTmSWB33Nh\\nylVaHytLC/Xy5JqOYjuD9NWwo9wBdT+/6m1jMymUvaSs+QS3wNn64v0gp75zGKBh\\nUW9LJHDAAzfWui2rL2Rw3Iyuk2tGAO7QmEdTjfKZ7p+wcWjz3A61LYorVVxlZOO+\\nd6ir0mleQudZWB55hidm0z5d3x5GWhQ9jWWgI6fdD8DvEXrQfE60bnQZEMQzplgk\\nbGE9ZPASl41Y3rzfLb8M5c7Rfth2sWijOOTDfGiIzaXBH293S6iyfzwONnoL9eTH\\nWeR8Em4Dbp5YpMoMoEPUR+Bx2pOgZWAPbbErn4uvP8quC1DcKQ/WzObOb/m5XfE6\\n/jUvV6dI1f/jNutt9uzs/y54qzoQxJDQXm6lqWo0PvlMbEOiSWUlH0ierwMpxAaG\\ndw1EjizczK9JoLseNc8YTAYyjEvhx7BMZuRiZjmHuHzfSaTvD4Gl/8w+KTEmsIkf\\nV0R1F6IK6gFxRphHvfY2SkDVvgYk0eHCSXq9pkPDShElJR38Iu+a4vvXOjSGkOHL\\nh2mAUdnNalF9zyyVX2oCfgHnxtuI8dvNQDHQjYS+xmcd00VmJm63WFgT72fOzVvP\\nn5gdgHkBKUmF+lzYVHtj\\n=4J27\\n-----END PGP SIGNATURE-----\\n\\n\\n_______________________________________________\\nSent through the Full Disclosure mailing list\\n<a  rel=\"nofollow\" href=\"https://nmap.org/mailman/listinfo/fulldisclosure\">https://nmap.org/mailman/listinfo/fulldisclosure</a>\\nWeb Archives &amp; RSS: <a  rel=\"nofollow\" href=\"http://seclists.org/fulldisclosure/\">http://seclists.org/fulldisclosure/</a>\\n\\n</pre>\\n<!--X-Body-of-Message-End-->\\n<!--X-MsgBody-End-->\\n<!--X-Follow-Ups-->\\n<hr>\\n<!--X-Follow-Ups-End-->\\n<!--X-References-->\\n<!--X-References-End-->\\n<!--X-BotPNI-->\\n<p>\\n<a href=\"44\"><img src=\"/images/left-icon-16x16.png\" border=0 width=16 height=16></a>&nbsp;&nbsp;<a href=\"date.html#45\">By Date</a>&nbsp;&nbsp;<a href=\"46\"><img src=\"/images/right-icon-16x16.png\" border=0 width=16 height=16></a>\\n&nbsp;&nbsp;&nbsp;&nbsp;&nbsp;\\n<a href=\"44\"><img src=\"/images/left-icon-16x16.png\" border=0 width=16 height=16></a>&nbsp;&nbsp;<a href=\"index.html#45\">By Thread</a>&nbsp;&nbsp;<a href=\"46\"><img src=\"/images/right-icon-16x16.png\" border=0 width=16 height=16></a>\\n</p>\\n<font size=\"+1\"><b>Current thread:</b></font>\\n<ul style=\"margin-top: 0em\">\\n<li><strong>APPLE-SA-2017-01-18-1 GarageBand 10.1.5</strong> <em>Apple Product Security (Jan 19)</em>\\n</ul>\\n\\n\\n<!--X-BotPNI-End-->\\n<!--X-User-Footer-->\\n<!--X-User-Footer-End-->\\n</TD></TR>\\n</TABLE>\\n</TD></TR>\\n<TR><TD></TD><TD ALIGN=\"center\">\\n<FONT COLOR=\"#FFFFFF\">\\n[ <A HREF=\"https://nmap.org\"><FONT COLOR=\"#FFFFFF\">Nmap</FONT></A> |\\n  <A HREF=\"http://sectools.org\"><FONT COLOR=\"#FFFFFF\">Sec Tools</FONT></A> |\\n  <A HREF=\"http://seclists.org/\"><FONT COLOR=\"#FFFFFF\">Mailing Lists</FONT></A> |\\n  <A HREF=\"http://insecure.org/\"><FONT COLOR=\"#FFFFFF\">Site News</FONT></A> |\\n  <A HREF=\"http://insecure.org/fyodor/\"><FONT COLOR=\"#FFFFFF\">About/Contact</FONT></A> |\\n  <A HREF=\"http://insecure.org/advertising.html\"><FONT COLOR=\"#FFFFFF\">Advertising</FONT></A> |\\n  <A HREF=\"http://insecure.org/privacy.html\"><FONT COLOR=\"#FFFFFF\">Privacy</FONT></A> ]<BR>\\n</FONT>\\n\\n<!-- SiteSearch Google -->\\n<div class=\"gcse-searchbox-only\" data-resultsUrl=\"https://nmap.org/search.html\"></div>\\n<!-- End SiteSearch Google -->\\n\\n<!-- Bottom Banner -->\\n<!-- Adsense -->\\n<script async src=\"//pagead2.googlesyndication.com/pagead/js/adsbygoogle.js\"></script>\\n<!-- PageBottom728x90 -->\\n<ins class=\"adsbygoogle\"\\n     style=\"display:inline-block;width:728px;height:90px\"\\n     data-ad-client=\"ca-pub-0078565546631069\"\\n     data-ad-slot=\"2743510915\"></ins>\\n<script>\\n(adsbygoogle = window.adsbygoogle || []).push({});\\n</script>\\n<!-- End Bottom Banner -->\\n</TD></TR>\\n</TABLE>\\n</BODY>\\n</HTML>\\n\\n\\n'"
      ]
     },
     "execution_count": 2,
     "metadata": {},
     "output_type": "execute_result"
    }
   ],
   "source": [
    "year = '2017'\n",
    "month = 'Jan'\n",
    "id = '45'\n",
    "url = 'http://seclists.org/fulldisclosure/' + year + '/' + month + '/' + id\n",
    "\n",
    "r = requests.get(url)\n",
    "content = r.text\n",
    "content"
   ]
  },
  {
   "cell_type": "markdown",
   "metadata": {},
   "source": [
    "Each message in the FD list is wrapped in seclists.org code, including navigation, ads, and trackers, all irrelevant to us. The body of the reply is contained between two comments, `<!--X-Body-of-Message-->` and `<!--X-Body-of-Message-End-->`.\n",
    "\n",
    "BeautifulSoup isn't great at handling comments, so we first use simple indexing to extract the relevant chars. We'll then send it through BeautifulSoup so we can use its __.text__ property to strip out the html tags. BS4 automatically adds tags to create valid html, so remember to parse using the generated `<body>` tags.\n",
    "\n",
    "What we end up with is a plaintext version of the message's body. "
   ]
  },
  {
   "cell_type": "code",
   "execution_count": 3,
   "metadata": {},
   "outputs": [
    {
     "data": {
      "text/plain": [
       "\"-----BEGIN PGP SIGNED MESSAGE-----\\nHash: SHA512\\n\\nAPPLE-SA-2017-01-18-1 GarageBand 10.1.5\\n\\nGarageBand 10.1.5 is now available and addresses the following:\\n\\nProjects\\nAvailable for: OS X Yosemite v10.10 and later\\nImpact: Opening a maliciously crafted GarageBand project file may\\nlead to arbitrary code execution\\nDescription: A memory corruption issue was addressed through improved\\nmemory handling.\\nCVE-2017-2372: Tyler Bohan of Cisco Talos\\n\\nInstallation note:\\n\\nGarageBand 10.1.5 may be obtained from the Mac App Store.\\n\\nInformation will also be posted to the Apple Security Updates\\nweb site: https://support.apple.com/kb/HT201222\\n\\nThis message is signed with Apple's Product Security PGP key,\\nand details are available at:\\nhttps://www.apple.com/support/security/pgp/\\n-----BEGIN PGP SIGNATURE-----\\nComment: GPGTools - https://gpgtools.org\\n\\niQIcBAEBCgAGBQJYf8YgAAoJEIOj74w0bLRGWiQP+gNnna3Ha0pOdJr/u3LHf/tN\\ntpX/lArjvo8ELpqb8wc5iCDXmSq7BgrnOV2T+XNI0XtE1md0xkQ3ttfTmSWB33Nh\\nylVaHytLC/Xy5JqOYjuD9NWwo9wBdT+/6m1jMymUvaSs+QS3wNn64v0gp75zGKBh\\nUW9LJHDAAzfWui2rL2Rw3Iyuk2tGAO7QmEdTjfKZ7p+wcWjz3A61LYorVVxlZOO+\\nd6ir0mleQudZWB55hidm0z5d3x5GWhQ9jWWgI6fdD8DvEXrQfE60bnQZEMQzplgk\\nbGE9ZPASl41Y3rzfLb8M5c7Rfth2sWijOOTDfGiIzaXBH293S6iyfzwONnoL9eTH\\nWeR8Em4Dbp5YpMoMoEPUR+Bx2pOgZWAPbbErn4uvP8quC1DcKQ/WzObOb/m5XfE6\\n/jUvV6dI1f/jNutt9uzs/y54qzoQxJDQXm6lqWo0PvlMbEOiSWUlH0ierwMpxAaG\\ndw1EjizczK9JoLseNc8YTAYyjEvhx7BMZuRiZjmHuHzfSaTvD4Gl/8w+KTEmsIkf\\nV0R1F6IK6gFxRphHvfY2SkDVvgYk0eHCSXq9pkPDShElJR38Iu+a4vvXOjSGkOHL\\nh2mAUdnNalF9zyyVX2oCfgHnxtuI8dvNQDHQjYS+xmcd00VmJm63WFgT72fOzVvP\\nn5gdgHkBKUmF+lzYVHtj\\n=4J27\\n-----END PGP SIGNATURE-----\\n\\n\\n_______________________________________________\\nSent through the Full Disclosure mailing list\\nhttps://nmap.org/mailman/listinfo/fulldisclosure\\nWeb Archives & RSS: http://seclists.org/fulldisclosure/\\n\\n\\n\""
      ]
     },
     "execution_count": 3,
     "metadata": {},
     "output_type": "execute_result"
    }
   ],
   "source": [
    "start = content.index('<!--X-Body-of-Message-->') + 24\n",
    "end = content.index('<!--X-Body-of-Message-End-->')\n",
    "body = content[start:end]\n",
    "\n",
    "soup = BeautifulSoup(body, 'html5lib')\n",
    "bodyhtml = soup.find('body')\n",
    "raw = bodyhtml.text\n",
    "raw"
   ]
  },
  {
   "cell_type": "markdown",
   "metadata": {},
   "source": [
    "## Signature extraction\n",
    "\n",
    "We'll attempt to use __talon__ to strip out the signature from the message. Talon provides two different ways to find the signature, \"brute force\" and \"machine learning\". \n",
    "\n",
    "We'll try the brute force method first. "
   ]
  },
  {
   "cell_type": "code",
   "execution_count": 4,
   "metadata": {},
   "outputs": [],
   "source": [
    "import talon\n",
    "from talon.signature.bruteforce import extract_signature\n",
    "\n",
    "reply, signature = extract_signature(raw)\n",
    "signature"
   ]
  },
  {
   "cell_type": "code",
   "execution_count": 5,
   "metadata": {},
   "outputs": [
    {
     "data": {
      "text/plain": [
       "\"-----BEGIN PGP SIGNED MESSAGE-----\\nHash: SHA512\\n\\nAPPLE-SA-2017-01-18-1 GarageBand 10.1.5\\n\\nGarageBand 10.1.5 is now available and addresses the following:\\n\\nProjects\\nAvailable for: OS X Yosemite v10.10 and later\\nImpact: Opening a maliciously crafted GarageBand project file may\\nlead to arbitrary code execution\\nDescription: A memory corruption issue was addressed through improved\\nmemory handling.\\nCVE-2017-2372: Tyler Bohan of Cisco Talos\\n\\nInstallation note:\\n\\nGarageBand 10.1.5 may be obtained from the Mac App Store.\\n\\nInformation will also be posted to the Apple Security Updates\\nweb site: https://support.apple.com/kb/HT201222\\n\\nThis message is signed with Apple's Product Security PGP key,\\nand details are available at:\\nhttps://www.apple.com/support/security/pgp/\\n-----BEGIN PGP SIGNATURE-----\\nComment: GPGTools - https://gpgtools.org\\n\\niQIcBAEBCgAGBQJYf8YgAAoJEIOj74w0bLRGWiQP+gNnna3Ha0pOdJr/u3LHf/tN\\ntpX/lArjvo8ELpqb8wc5iCDXmSq7BgrnOV2T+XNI0XtE1md0xkQ3ttfTmSWB33Nh\\nylVaHytLC/Xy5JqOYjuD9NWwo9wBdT+/6m1jMymUvaSs+QS3wNn64v0gp75zGKBh\\nUW9LJHDAAzfWui2rL2Rw3Iyuk2tGAO7QmEdTjfKZ7p+wcWjz3A61LYorVVxlZOO+\\nd6ir0mleQudZWB55hidm0z5d3x5GWhQ9jWWgI6fdD8DvEXrQfE60bnQZEMQzplgk\\nbGE9ZPASl41Y3rzfLb8M5c7Rfth2sWijOOTDfGiIzaXBH293S6iyfzwONnoL9eTH\\nWeR8Em4Dbp5YpMoMoEPUR+Bx2pOgZWAPbbErn4uvP8quC1DcKQ/WzObOb/m5XfE6\\n/jUvV6dI1f/jNutt9uzs/y54qzoQxJDQXm6lqWo0PvlMbEOiSWUlH0ierwMpxAaG\\ndw1EjizczK9JoLseNc8YTAYyjEvhx7BMZuRiZjmHuHzfSaTvD4Gl/8w+KTEmsIkf\\nV0R1F6IK6gFxRphHvfY2SkDVvgYk0eHCSXq9pkPDShElJR38Iu+a4vvXOjSGkOHL\\nh2mAUdnNalF9zyyVX2oCfgHnxtuI8dvNQDHQjYS+xmcd00VmJm63WFgT72fOzVvP\\nn5gdgHkBKUmF+lzYVHtj\\n=4J27\\n-----END PGP SIGNATURE-----\\n\\n\\n_______________________________________________\\nSent through the Full Disclosure mailing list\\nhttps://nmap.org/mailman/listinfo/fulldisclosure\\nWeb Archives & RSS: http://seclists.org/fulldisclosure/\""
      ]
     },
     "execution_count": 5,
     "metadata": {},
     "output_type": "execute_result"
    }
   ],
   "source": [
    "reply"
   ]
  },
  {
   "cell_type": "markdown",
   "metadata": {},
   "source": [
    "At least for 2017_Jan_0, it is pretty effective. 2017_Jan_45 was not successful at all. Now, we'll try the machine learning style, to compare. "
   ]
  },
  {
   "cell_type": "code",
   "execution_count": 6,
   "metadata": {},
   "outputs": [
    {
     "name": "stdout",
     "output_type": "stream",
     "text": [
      "None\n"
     ]
    }
   ],
   "source": [
    "talon.init()\n",
    "from talon import signature\n",
    "reply_ml, sig_ml = signature.extract(raw, sender=\"dawid@legalhackers.com\")\n",
    "print(sig_ml)\n",
    "#reply_ml"
   ]
  },
  {
   "cell_type": "markdown",
   "metadata": {},
   "source": [
    "This doesn't seem to output anything. I'm unclear whether or not this library is already trained; documentation states that it was trained on the authors' personal email and an ENRON set. There is an open issue on github <https://github.com/mailgun/talon/issues/143> from July asking about the same thing. We will stick with the \"brute force\" method for now, and continue to look for more libraries."
   ]
  },
  {
   "cell_type": "markdown",
   "metadata": {},
   "source": [
    "## Extract HTML tags\n",
    "We'll use a fairly simple regex to extract any tags from the reply. \n",
    "\n",
    "`<([^\\s>]+)(\\s|/>)+`\n",
    "  * `[^\\s>]+` one or more non-whitespace characters, __followed by__:\n",
    "  * `\\s|/` either a whitespace character, or a slash (/) for self-closing tags.\n",
    "\n",
    "\n",
    "We then use a dictionary to count the instances of each unique tag. "
   ]
  },
  {
   "cell_type": "code",
   "execution_count": 7,
   "metadata": {},
   "outputs": [
    {
     "name": "stdout",
     "output_type": "stream",
     "text": [
      "{'a': 5, 'pre': 1}\n"
     ]
    }
   ],
   "source": [
    "rx = re.compile('<([^\\s>]+)(\\s|/>)+')\n",
    "tags = {}\n",
    "for tag in rx.findall(str(bodyhtml)):\n",
    "    tagtype = tag[0]\n",
    "    if not tagtype.startswith('/'):\n",
    "        if tagtype in tags:\n",
    "            tags[tagtype] = tags[tagtype] + 1\n",
    "        else:\n",
    "            tags[tagtype] = 1\n",
    "print(tags)"
   ]
  }
 ],
 "metadata": {
  "kernelspec": {
   "display_name": "Python 3",
   "language": "python",
   "name": "python3"
  },
  "language_info": {
   "codemirror_mode": {
    "name": "ipython",
    "version": 3
   },
   "file_extension": ".py",
   "mimetype": "text/x-python",
   "name": "python",
   "nbconvert_exporter": "python",
   "pygments_lexer": "ipython3",
   "version": "3.4.2"
  }
 },
 "nbformat": 4,
 "nbformat_minor": 2
}
